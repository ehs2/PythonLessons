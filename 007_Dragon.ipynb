{
 "cells": [
  {
   "cell_type": "markdown",
   "id": "61651191",
   "metadata": {},
   "source": [
    "# Das Programm Dragon\n",
    "Hier werden einige neue Konzepte gezeigt:\n",
    "\n",
    "Funktionen\n",
    "\n",
    "Gültigkeitsprüfung"
   ]
  },
  {
   "cell_type": "code",
   "execution_count": null,
   "id": "8f613d52",
   "metadata": {},
   "outputs": [],
   "source": [
    "import random\n",
    "import time\n",
    "\n",
    "#Funktionsname mit Binnemajuskel bzw. CamelCase Schreibweise\n",
    "def displayIntro():\n",
    "    print('You are in a land full of dragons. In front of you,')\n",
    "    print('you see two caves. In one cave, the dragon is friendly')\n",
    "    print('and will share his treasure with you. The other dragon')\n",
    "    print('is greedy and hungry, and will eat you on sight.')\n",
    "    print()\n",
    "\n",
    "def chooseCave():\n",
    "    cave = ''\n",
    "    while cave != '1' and cave != '2':\n",
    "        print('Which cave will you go into? (1 or 2)')\n",
    "        cave = input()\n",
    "    return cave\n",
    "\n",
    "def checkCave(chosenCave):\n",
    "    print('You approach the cave...')\n",
    "    time.sleep(2)\n",
    "    print('It is dark and spooky...')\n",
    "    time.sleep(2)\n",
    "    print('A large dragon jumps out in front of you! He opens his jaws and...')\n",
    "    print()\n",
    "    time.sleep(2)\n",
    "    friendlyCave = random.randint(1, 2)\n",
    "    if chosenCave == str(friendlyCave):\n",
    "        print('Gives you his treasure!')\n",
    "    else:\n",
    "        print('Gobbles you down in one bite!')\n",
    "playAgain = 'yes'\n",
    "while playAgain == 'yes' or playAgain == 'y':\n",
    "    displayIntro()\n",
    "    caveNumber = chooseCave()\n",
    "    checkCave(caveNumber)\n",
    "    print('Do you want to play again? (yes or no)')\n",
    "    playAgain = input()"
   ]
  }
 ],
 "metadata": {
  "hide_input": false,
  "kernelspec": {
   "display_name": "Python 3 (ipykernel)",
   "language": "python",
   "name": "python3"
  },
  "language_info": {
   "codemirror_mode": {
    "name": "ipython",
    "version": 3
   },
   "file_extension": ".py",
   "mimetype": "text/x-python",
   "name": "python",
   "nbconvert_exporter": "python",
   "pygments_lexer": "ipython3",
   "version": "3.9.7"
  }
 },
 "nbformat": 4,
 "nbformat_minor": 5
}
