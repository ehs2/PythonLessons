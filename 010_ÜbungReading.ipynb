{
 "cells": [
  {
   "cell_type": "markdown",
   "id": "b2113e7c",
   "metadata": {},
   "source": [
    "# Uebung zum Reading\n",
    "\n",
    "Überlegen Sie was dieses Programm ausgibt wenn Sie eine Zahl angeben.\n",
    "\n",
    "Erstellen Sie die Ausgabe für die Zahl \"7\""
   ]
  },
  {
   "cell_type": "code",
   "execution_count": null,
   "id": "2b358bb8",
   "metadata": {},
   "outputs": [],
   "source": [
    "zahl2 = int(input(\"Geben Sie ein: \"))\n",
    "for zahl in range(100):\n",
    "    if zahl%zahl2==0:\n",
    "        print(zahl)\n",
    "        "
   ]
  }
 ],
 "metadata": {
  "hide_input": false,
  "kernelspec": {
   "display_name": "Python 3 (ipykernel)",
   "language": "python",
   "name": "python3"
  },
  "language_info": {
   "codemirror_mode": {
    "name": "ipython",
    "version": 3
   },
   "file_extension": ".py",
   "mimetype": "text/x-python",
   "name": "python",
   "nbconvert_exporter": "python",
   "pygments_lexer": "ipython3",
   "version": "3.9.7"
  }
 },
 "nbformat": 4,
 "nbformat_minor": 5
}
