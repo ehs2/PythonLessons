{
 "cells": [
  {
   "cell_type": "markdown",
   "id": "0793602a",
   "metadata": {},
   "source": [
    "<h1>Programmieren mit Python - Update</h1>\n",
    "<p><a href=\"https://jupyter.bbs-brv.de/hub/user-redirect/git-pull?repo=https%3A%2F%2Fgithub.com%2Fehs2%2FPythonLessons.git&urlpath=tree%2FPythonLessons.git%2F&branch=master\">Update der Aufgaben</a>\n"
   ]
  },
  {
   "cell_type": "code",
   "execution_count": null,
   "id": "b625184b",
   "metadata": {},
   "outputs": [],
   "source": []
  }
 ],
 "metadata": {
  "kernelspec": {
   "display_name": "Python 3 (ipykernel)",
   "language": "python",
   "name": "python3"
  },
  "language_info": {
   "codemirror_mode": {
    "name": "ipython",
    "version": 3
   },
   "file_extension": ".py",
   "mimetype": "text/x-python",
   "name": "python",
   "nbconvert_exporter": "python",
   "pygments_lexer": "ipython3",
   "version": "3.9.7"
  }
 },
 "nbformat": 4,
 "nbformat_minor": 5
}
