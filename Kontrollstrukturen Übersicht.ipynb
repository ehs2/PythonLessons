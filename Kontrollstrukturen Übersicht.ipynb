{
 "cells": [
  {
   "cell_type": "markdown",
   "id": "149ebd4b",
   "metadata": {},
   "source": [
    "# Kontrollstrukturen\n",
    "## Wiederholungen\n",
    "### for-Schleife\n",
    "### While\n"
   ]
  },
  {
   "cell_type": "code",
   "execution_count": null,
   "id": "2f4020f7",
   "metadata": {},
   "outputs": [],
   "source": []
  }
 ],
 "metadata": {
  "kernelspec": {
   "display_name": "Python 3 (ipykernel)",
   "language": "python",
   "name": "python3"
  },
  "language_info": {
   "codemirror_mode": {
    "name": "ipython",
    "version": 3
   },
   "file_extension": ".py",
   "mimetype": "text/x-python",
   "name": "python",
   "nbconvert_exporter": "python",
   "pygments_lexer": "ipython3",
   "version": "3.9.7"
  }
 },
 "nbformat": 4,
 "nbformat_minor": 5
}
