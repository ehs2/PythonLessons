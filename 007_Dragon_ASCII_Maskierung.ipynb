{
 "cells": [
  {
   "cell_type": "markdown",
   "id": "61651191",
   "metadata": {},
   "source": [
    "# Das Programm Dragon\n",
    "Hier werden einige neue Konzepte gezeigt:\n",
    "\n",
    "Funktionen\n",
    "\n",
    "Gültigkeitsprüfung"
   ]
  },
  {
   "cell_type": "code",
   "execution_count": null,
   "id": "8f613d52",
   "metadata": {},
   "outputs": [],
   "source": [
    "import random\n",
    "import time\n",
    "\n",
    "#Funktionsname mit Binnemajuskel bzw. CamelCase Schreibweise\n",
    "def displayIntro():\n",
    "    print('You are in a land full of dragons. In front of you,')\n",
    "    print('you see two caves. In one cave, the dragon is friendly')\n",
    "    print('and will share his treasure with you. The other dragon')\n",
    "    print('is greedy and hungry, and will eat you on sight.')\n",
    "    print()\n",
    "\n",
    "def chooseCave():\n",
    "    cave = ''\n",
    "    while cave != '1' and cave != '2':\n",
    "        print('Which cave will you go into? (1 or 2)')\n",
    "        cave = input()\n",
    "    return cave\n",
    "\n",
    "def checkCave(chosenCave):\n",
    "    print('You approach the cave...')\n",
    "    time.sleep(2)\n",
    "    print('It is dark and spooky...')\n",
    "    time.sleep(2)\n",
    "    print('A large dragon jumps out in front of you! He opens his jaws and...')\n",
    "    print()\n",
    "    time.sleep(2)\n",
    "    friendlyCave = random.randint(1, 2)\n",
    "    if chosenCave == str(friendlyCave):\n",
    "        print('Gives you his treasure!')\n",
    "    else:\n",
    "        print('Gobbles you down in one bite!')\n",
    "playAgain = 'yes'\n",
    "while playAgain == 'yes' or playAgain == 'y':\n",
    "    displayIntro()\n",
    "    caveNumber = chooseCave()\n",
    "    checkCave(caveNumber)\n",
    "    print('Do you want to play again? (yes or no)')\n",
    "    playAgain = input()"
   ]
  },
  {
   "cell_type": "markdown",
   "id": "814289b6",
   "metadata": {},
   "source": [
    "# Variante mit ASCII Art\n",
    "https://www.asciiart.eu\n",
    "    \n",
    "Das Problem hierbei ist, dass die Zeichen in der Zeichnung manchmal als Python-Code interpretiert werden\n",
    "\n",
    "Man muss dann \"maskieren\" mit \\\n",
    "\n",
    "\n",
    "\n",
    "Bachten Sie die nachfolgenden Lösungen ergibt einen SyntaxError. Nach dem 2. Anführungzeichen erwartet Python wieder Code...\n"
   ]
  },
  {
   "cell_type": "code",
   "execution_count": null,
   "id": "7357c6bc",
   "metadata": {},
   "outputs": [],
   "source": [
    "# Geht nicht!! SyntaxError\n",
    "print(\"Jemanden \"einen Bären aufbinden\" ist ein Synonym dafür jemandem die Unwahrheit zu erzählen\")"
   ]
  },
  {
   "cell_type": "code",
   "execution_count": null,
   "id": "b29a0886",
   "metadata": {},
   "outputs": [],
   "source": [
    "print(\"Jemanden \\\"einen Bären aufbinden\\\" ist ein Synonym dafür jemandem die Unwahrheit zu erzählen\")\n",
    "\n",
    "print(\"\"\"\n",
    "Jemanden \"einen Bären aufbinden\" ist ein Synonym dafür jemandem die Unwahrheit zu erzählen\n",
    "\"\"\")"
   ]
  },
  {
   "cell_type": "code",
   "execution_count": 2,
   "id": "e20f9558",
   "metadata": {},
   "outputs": [
    {
     "ename": "SyntaxError",
     "evalue": "EOL while scanning string literal (2053971215.py, line 1)",
     "output_type": "error",
     "traceback": [
      "\u001b[0;36m  Cell \u001b[0;32mIn[2], line 1\u001b[0;36m\u001b[0m\n\u001b[0;31m    print(\"\\\")\u001b[0m\n\u001b[0m              ^\u001b[0m\n\u001b[0;31mSyntaxError\u001b[0m\u001b[0;31m:\u001b[0m EOL while scanning string literal\n"
     ]
    }
   ],
   "source": [
    "##Geht nicht!\n",
    "print(\"\\\")"
   ]
  },
  {
   "cell_type": "code",
   "execution_count": 3,
   "id": "bcfd8362",
   "metadata": {},
   "outputs": [
    {
     "name": "stdout",
     "output_type": "stream",
     "text": [
      "\\\n",
      "\"\n"
     ]
    }
   ],
   "source": [
    "#Geht!!\n",
    "print(\"\\\\\")\n",
    "print(\"\\\"\")"
   ]
  },
  {
   "cell_type": "code",
   "execution_count": null,
   "id": "b22f7fcd",
   "metadata": {},
   "outputs": [],
   "source": [
    "import random\n",
    "import time\n",
    "\n",
    "#Funktionsname mit Binnemajuskel bzw. CamelCase Schreibweise\n",
    "def displayIntro():\n",
    "    print('You are in a land full of dragons. In front of you,')\n",
    "    print('you see two caves. In one cave, the dragon is friendly')\n",
    "    print('and will share his treasure with you. The other dragon')\n",
    "    print('is greedy and hungry, and will eat you on sight.')\n",
    "    print()\n",
    "def youAreRich():\n",
    "    print('''\n",
    "         __________ \n",
    "        /\\\\____;;___\\\\\n",
    "       | /         /\n",
    "       `. ())oo() . \n",
    "        |\\\\(%()*^^()^\\\\\n",
    "       %| |-%-------|\n",
    "      % \\ | %  ))   |\n",
    "      %  \\|%________|\n",
    "    ''')\n",
    "    \n",
    "\n",
    "def youAreDead():\n",
    "    print('''\n",
    "                \\||/\n",
    "                |  @___oo\n",
    "      /\\\\  /\\\\   / (__,,,,|\n",
    "     ) /^\\\\) ^\\\\/ _)\n",
    "     )   /^\\/   _)\n",
    "     )   _ /  / _)\n",
    " /\\\\  )/\\\\/ ||  | )_)\n",
    "<  >      |(,,) )__)\n",
    " ||      /    \\\\)___)\\\\\n",
    " | \\\\____(      )___) )___\n",
    "  \\\\______(_______;;; __;;;\n",
    "    ''')\n",
    "def chooseCave():\n",
    "    cave = ''\n",
    "    while cave != '1' and cave != '2':\n",
    "        print('Which cave will you go into? (1 or 2)')\n",
    "        cave = input()\n",
    "    return cave\n",
    "\n",
    "def checkCave(chosenCave):\n",
    "    print('You approach the cave...')\n",
    "    time.sleep(0)\n",
    "    print('It is dark and spooky...')\n",
    "    time.sleep(0)\n",
    "    print('A large dragon jumps out in front of you! He opens his jaws and...')\n",
    "    print()\n",
    "    time.sleep(0)\n",
    "    friendlyCave = random.randint(1, 2)\n",
    "    if chosenCave == str(friendlyCave):\n",
    "        print('Gives you his treasure!')\n",
    "        youAreRich()\n",
    "    else:\n",
    "        print('Gobbles you down in one bite!')\n",
    "        youAreDead()\n",
    "playAgain = 'yes'\n",
    "while playAgain == 'yes' or playAgain == 'y':\n",
    "    displayIntro()\n",
    "    caveNumber = chooseCave()\n",
    "    checkCave(caveNumber)\n",
    "    print('Do you want to play again? (yes or no)')\n",
    "    playAgain = input()"
   ]
  },
  {
   "cell_type": "code",
   "execution_count": null,
   "id": "d66f24e6",
   "metadata": {},
   "outputs": [],
   "source": []
  }
 ],
 "metadata": {
  "hide_input": false,
  "kernelspec": {
   "display_name": "Python 3 (ipykernel)",
   "language": "python",
   "name": "python3"
  },
  "language_info": {
   "codemirror_mode": {
    "name": "ipython",
    "version": 3
   },
   "file_extension": ".py",
   "mimetype": "text/x-python",
   "name": "python",
   "nbconvert_exporter": "python",
   "pygments_lexer": "ipython3",
   "version": "3.9.7"
  }
 },
 "nbformat": 4,
 "nbformat_minor": 5
}
