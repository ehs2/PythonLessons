{
 "cells": [
  {
   "cell_type": "markdown",
   "id": "a8ec11c3",
   "metadata": {},
   "source": [
    "\n",
    "\n",
    "# Übungen\n",
    "\n",
    "Nachfolgend sind ein paar Übungen, die Sie zunächst OFFLINE also ohne Rechner beantworten sollen. Ich möchte damit vermeiden, dass Sie durch einfaches Ausprobieren die Lösung finden ;-)\n",
    "\n",
    "Die Aufgaben sind immer Bündel aus zwei Notebookzellen. Aufgabentext und ggf. Quellcode.\n"
   ]
  },
  {
   "cell_type": "markdown",
   "id": "c220da7d",
   "metadata": {},
   "source": [
    "***\n",
    "# Aufgabe 1\n",
    "Ergänzen Sie den Quellcode im Schleifenkopf der FOR-Schleife so, dass die folgende Ausgabe erzeugt wird:\n",
    "\n",
    "```\n",
    "********\n",
    "```"
   ]
  },
  {
   "cell_type": "code",
   "execution_count": null,
   "id": "dd50738f",
   "metadata": {},
   "outputs": [],
   "source": [
    "ausgabe=\"\"\n",
    "for i in range(??):\n",
    "    print(i)\n",
    "    ausgabe = ausgabe + \"*\"\n",
    "print(ausgabe)"
   ]
  },
  {
   "cell_type": "markdown",
   "id": "219dc284",
   "metadata": {},
   "source": [
    "***\n",
    "# Aufgabe 2\n",
    "Welche Ausgabe erzeugt der nachfolgende Quellcode. Verwenden Sie am Besten Karopapier bzw. versuchen sie die Ausgabe  genau wiederzugeben\n",
    "\n",
    "```\n",
    "name = \"Schwarzen\"\n",
    "zusatz =\"egger\"\n",
    "vn = \" Arnold\"\n",
    "gegner = \"Chuck Norris\"\n",
    "\n",
    "print (\"name\" + vn + \" ist nicht \" + gegner)\n",
    "```"
   ]
  },
  {
   "cell_type": "code",
   "execution_count": null,
   "id": "ca6cd6fa",
   "metadata": {},
   "outputs": [],
   "source": [
    "name = \"Schwarzen\"\n",
    "zusatz =\"egger\"\n",
    "vn = \" Arnold\"\n",
    "gegner = \"Chuck Norris\"\n",
    "\n",
    "print (\"name\" + vn + \" ist nicht \" + gegner)"
   ]
  },
  {
   "cell_type": "markdown",
   "id": "50ef09ff",
   "metadata": {},
   "source": [
    "***\n",
    "# Aufgabe 3\n",
    "Welche Ausgabe erzeugt der nachfolgende Quellcode. Verwenden Sie am Besten Karopapier bzw. versuchen sie die Ausgabe  genau wiederzugeben\n"
   ]
  },
  {
   "cell_type": "code",
   "execution_count": null,
   "id": "56ac6a76",
   "metadata": {},
   "outputs": [],
   "source": [
    "ausgabe=\"\"\n",
    "for i in range(4):\n",
    "    ausgabe = ausgabe + \"+\"\n",
    "    print(str(i)+\"-\"+ausgabe)"
   ]
  },
  {
   "cell_type": "markdown",
   "id": "e4ea27b9",
   "metadata": {},
   "source": [
    "***\n",
    "# Aufgabe 4\n",
    "Welche Ausgabe erzeugt der nachfolgende Quellcode. Verwenden Sie am Besten Karopapier bzw. versuchen sie die Ausgabe  genau wiederzugeben"
   ]
  },
  {
   "cell_type": "code",
   "execution_count": null,
   "id": "d8678ef2",
   "metadata": {},
   "outputs": [],
   "source": [
    "for i in range(5):\n",
    "    print(\"*\" * i)"
   ]
  },
  {
   "cell_type": "markdown",
   "id": "76c3fec6",
   "metadata": {},
   "source": [
    "***\n",
    "# Aufgabe 5\n",
    "Welche Ausgabe erzeugt der nachfolgende Quellcode. Verwenden Sie am Besten Karopapier bzw. versuchen sie die Ausgabe  genau wiederzugeben\n"
   ]
  },
  {
   "cell_type": "code",
   "execution_count": null,
   "id": "acde0873",
   "metadata": {},
   "outputs": [],
   "source": [
    "for n in range(5):\n",
    "  print(n*n)"
   ]
  },
  {
   "cell_type": "markdown",
   "id": "ce658afd",
   "metadata": {},
   "source": [
    "***\n",
    "# Aufgabe 6\n",
    "Welche Ausgabe erzeugt der nachfolgende Quellcode. Verwenden Sie am Besten Karopapier bzw. versuchen sie die Ausgabe  genau wiederzugeben\n"
   ]
  },
  {
   "cell_type": "code",
   "execution_count": null,
   "id": "0e45a8de",
   "metadata": {},
   "outputs": [],
   "source": [
    "print(\"----------------\")\n",
    "for n in range(5):\n",
    "  print(str(n)*n)\n",
    "print(\"----------------\")"
   ]
  }
 ],
 "metadata": {
  "hide_input": false,
  "kernelspec": {
   "display_name": "Python 3 (ipykernel)",
   "language": "python",
   "name": "python3"
  },
  "language_info": {
   "codemirror_mode": {
    "name": "ipython",
    "version": 3
   },
   "file_extension": ".py",
   "mimetype": "text/x-python",
   "name": "python",
   "nbconvert_exporter": "python",
   "pygments_lexer": "ipython3",
   "version": "3.9.7"
  }
 },
 "nbformat": 4,
 "nbformat_minor": 5
}
