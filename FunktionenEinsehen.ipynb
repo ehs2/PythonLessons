{
 "cells": [
  {
   "cell_type": "markdown",
   "id": "846a10b9",
   "metadata": {},
   "source": [
    "# Funktionen von Paketen einsehn\n",
    "    "
   ]
  },
  {
   "cell_type": "code",
   "execution_count": 9,
   "id": "9fe3be45",
   "metadata": {},
   "outputs": [
    {
     "data": {
      "text/plain": [
       "['Canvas',\n",
       " 'Shape',\n",
       " 'Turtle',\n",
       " 'TurtleScreen',\n",
       " '__all__',\n",
       " '__author__',\n",
       " '__builtins__',\n",
       " '__cached__',\n",
       " '__doc__',\n",
       " '__file__',\n",
       " '__homepage__',\n",
       " '__loader__',\n",
       " '__name__',\n",
       " '__package__',\n",
       " '__path__',\n",
       " '__spec__',\n",
       " '__version__',\n",
       " 'hold_canvas',\n",
       " 'ipyturtle3']"
      ]
     },
     "execution_count": 9,
     "metadata": {},
     "output_type": "execute_result"
    }
   ],
   "source": [
    "import ipyturtle3 as turtle\n",
    "dir(ipyturtle3)\n"
   ]
  },
  {
   "cell_type": "code",
   "execution_count": null,
   "id": "ae9f11f7",
   "metadata": {},
   "outputs": [],
   "source": []
  }
 ],
 "metadata": {
  "kernelspec": {
   "display_name": "Python 3 (ipykernel)",
   "language": "python",
   "name": "python3"
  },
  "language_info": {
   "codemirror_mode": {
    "name": "ipython",
    "version": 3
   },
   "file_extension": ".py",
   "mimetype": "text/x-python",
   "name": "python",
   "nbconvert_exporter": "python",
   "pygments_lexer": "ipython3",
   "version": "3.9.7"
  }
 },
 "nbformat": 4,
 "nbformat_minor": 5
}
