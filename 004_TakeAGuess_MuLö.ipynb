{
 "cells": [
  {
   "cell_type": "code",
   "execution_count": 2,
   "id": "c5471aed",
   "metadata": {},
   "outputs": [
    {
     "ename": "SyntaxError",
     "evalue": "invalid syntax (3195134032.py, line 34)",
     "output_type": "error",
     "traceback": [
      "\u001b[0;36m  Cell \u001b[0;32mIn[2], line 34\u001b[0;36m\u001b[0m\n\u001b[0;31m    if guess = number:\u001b[0m\n\u001b[0m             ^\u001b[0m\n\u001b[0;31mSyntaxError\u001b[0m\u001b[0;31m:\u001b[0m invalid syntax\n"
     ]
    }
   ],
   "source": [
    "# This is a Guess the Number game.\n",
    "\n",
    "#Paket random importieren\n",
    "import random\n",
    "\n",
    "#Variable \"guessesTaken\" deklarieren und den Wert 0 zuweisen\n",
    "# ein Gleichheitszeichen ist eine Zuweisung\n",
    "guessesTaken = 0\n",
    "\n",
    "# Frage und Eingabe die einer variaben zugewiesen wird\n",
    "print('Hello! What is your name?')\n",
    "myName = input()\n",
    "\n",
    "\n",
    "# Der Variablen number wird das Ergebnis eines Funktionsaufrufs zugewiesen\n",
    "# Es wird die Funktion randint des Moduls random aufgerufen\n",
    "# Der Funktion werden zwei Parameter übergeben (ober und untergrenze) der\n",
    "# zu erzeugenden Zahl\n",
    "number = random.randint(1, 20)\n",
    "\n",
    "# Ausgabe von Text, hierbei wird mit dem + Zeichen der INhalt der Variablen\n",
    "# myName mit den anderen beiden Zeichenketten verkettet\n",
    "\n",
    "print('Well, ' + myName + ', I am thinking of a number between 1 and 20.')\n",
    "\n",
    "# eine Schleife die max. 6 mal ausgeführt wird\n",
    "\n",
    "for guessesTaken in range(6):\n",
    "    print('Take a guess.') # Four spaces in front of \"print\"\n",
    "    #Der Nutzer gibt eine Zahl ein. diese wird in der VAriablen\n",
    "    # guess gespeichert\n",
    "    guess = input()\n",
    "    # Die Eingabe wird zunächts IMMER als String / Zeichenkette aufgefasst\n",
    "    # Um sie als Zahl zu speichern wird die Funktion int() verwendet\n",
    "    guess = int(guess)\n",
    "    \n",
    "    # NAchfolgend wird der geratene Wert guess mit dem gusuchten\n",
    "    # Wert number verglichen. Je nach ergebnis wird etwas anderes getan\n",
    "    if guess < number:\n",
    "        print('Your guess is too low.') # Eight spaces in front of \"print\"\n",
    "\n",
    "    if guess > number:\n",
    "        print('Your guess is too high.')\n",
    "\n",
    "    if guess == number:\n",
    "        # Die geratene Nummer wurde innerhalb der 6 möglichen Versuche\n",
    "        # erraten die for-Schleife wird nun verlassen\n",
    "        break\n",
    "\n",
    "# An diese Stelle gelangt der Interpreter wenn die Schleife durchlaufen \n",
    "# (mit oder ohne Abbruch). Es wird erneut überprüft ob richtig geraten wurde\n",
    "if guess == number:\n",
    "    # Es wird bei 0 begonnen daher muss guessesTaken um einen erhöht werden\n",
    "    # und eine Umwandlung in eine Zeichenkette mit str()\n",
    "    guessesTaken = str(guessesTaken + 1)\n",
    "    # verkettete Ausgabe\n",
    "    print('Good job, ' + myName + '! You guessed my number in ' +\n",
    "    guessesTaken + ' guesses!')\n",
    "# Prüfung ob die guess und number ungleich\n",
    "if guess != number:\n",
    "    number = str(number)\n",
    "    print('Nope. The number I was thinking of was ' + number + '.')"
   ]
  },
  {
   "cell_type": "code",
   "execution_count": null,
   "id": "85fc1e6a",
   "metadata": {},
   "outputs": [],
   "source": []
  }
 ],
 "metadata": {
  "hide_input": false,
  "kernelspec": {
   "display_name": "Python 3 (ipykernel)",
   "language": "python",
   "name": "python3"
  },
  "language_info": {
   "codemirror_mode": {
    "name": "ipython",
    "version": 3
   },
   "file_extension": ".py",
   "mimetype": "text/x-python",
   "name": "python",
   "nbconvert_exporter": "python",
   "pygments_lexer": "ipython3",
   "version": "3.9.7"
  }
 },
 "nbformat": 4,
 "nbformat_minor": 5
}
