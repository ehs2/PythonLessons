{
 "cells": [
  {
   "cell_type": "markdown",
   "id": "bef63b62",
   "metadata": {},
   "source": [
    "# Themen 000 bis 003\n",
    "## Umgang mit Jupyternotebook\n",
    "\n",
    "* Eine Notebook ist eine Art digitales Notizbuch. \n",
    "* Es gibt unterschiedliche Zellen (Markdown und Code).\n",
    "* Zellen können mit Run ausgeführt werden. Paython Code wird dann ausgeführt und Markdwon wird dann ähnlich wie HTML angezeigt.\n",
    "* Ein Notebook \"merkt\" sich die Reihenfolge der ausführung der einzelen Zellen. Man kann also in einer Zelle ein Variable anlegen und in einer anderen mit dieser Variablen weiterarbeiten.\n",
    "* Notebooks \"stürzen\" auch mal ab. Dann muss man den Kernel oder den Server auch mal neustarten.\n",
    "\n",
    "## Befehle in Python\n",
    "\n",
    "In der Programmiersprache Python eird je Zeile ein Befehl geschrieben.\n",
    "\n",
    "Funktionen in python haben immer ein Klammer:\n",
    "\n",
    "print(\"Hallo Welt\")\n",
    "\n",
    "In der Klammer können Parameter stehen. In dem Befehl hier drüber wird der print-Funktion der Wert \"Hallo Welt\" übergeben. Die Print-Funktion wertet dann den Parameter aus.\n",
    "\n",
    "random.randint(1,20)\n",
    "Der Funktion randint() aus dem Modul random werden 2 Parameter übergeben.\n",
    "\n",
    "bob.penup()\n",
    "Der Funktion penpup() braucht keinen Parameter\n",
    "\n",
    "\n",
    "## Denken wie ein Computer\n",
    "\n",
    "In den bisherigen Aufgaben sollten Sie sich an Jupyter gewöhnen und anfangen wie ein Computer zu denken: Die Schritte/Befehle werden nacheinander ausgeführt. Falsche Befehle werden auch beim 2. mal wieder falsch ausgeführt. Das gleiche Programm ergibt (bei gleichen Eingaben) dasselbe Ergebnis. Programme sind sehr pingelig: kleinste (Syntax-)Fehler lassen das Programm gar nicht erst starten und andere (logische)-Fehler erkennt man erst nach einiger Überlegung\n",
    "\n",
    "## Variablen\n",
    "\n",
    "Variablen sind spezielle Worte dier Werte während des Programmablaufs speichern und ändern.\n",
    "\n",
    "anzahlVersuche =3\n",
    "\n",
    "Der Variablen anzahlVersuche wird der Wert 3 zugewiesen. Der Wert kann durch eine erneute Zuweisung geändert werden. Der vorherige Wert ist dann verloren. Ein Metapher könnte also eine Schublad mit einer Beschriftung sein in der man immer nur eine Sache zur Zeit ablegen kann."
   ]
  },
  {
   "cell_type": "code",
   "execution_count": null,
   "id": "acdc1583",
   "metadata": {},
   "outputs": [],
   "source": []
  },
  {
   "cell_type": "code",
   "execution_count": null,
   "id": "d2c5aa8a",
   "metadata": {},
   "outputs": [],
   "source": []
  }
 ],
 "metadata": {
  "hide_input": false,
  "kernelspec": {
   "display_name": "Python 3 (ipykernel)",
   "language": "python",
   "name": "python3"
  },
  "language_info": {
   "codemirror_mode": {
    "name": "ipython",
    "version": 3
   },
   "file_extension": ".py",
   "mimetype": "text/x-python",
   "name": "python",
   "nbconvert_exporter": "python",
   "pygments_lexer": "ipython3",
   "version": "3.9.7"
  }
 },
 "nbformat": 4,
 "nbformat_minor": 5
}
