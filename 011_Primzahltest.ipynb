{
 "cells": [
  {
   "cell_type": "markdown",
   "id": "7ba1fbb1",
   "metadata": {},
   "source": [
    "# Primzahl\n",
    "Schreiben Sie ein Programm, dass eine vom Nutzer eingebene Zahl daraufhin prüft, ob Sie prim ist.\n",
    "\n",
    "## Definition aus der Wikipedia\n",
    "Eine Primzahl (von lateinisch numerus primus ‚erste Zahl‘) ist eine natürliche Zahl, die genau zwei (ganzzahlige) Teiler (nur sich selbst und 1) hat (und somit größer als 1 ist).\n"
   ]
  },
  {
   "cell_type": "code",
   "execution_count": null,
   "id": "e1bc42d5",
   "metadata": {},
   "outputs": [],
   "source": []
  }
 ],
 "metadata": {
  "hide_input": false,
  "kernelspec": {
   "display_name": "Python 3 (ipykernel)",
   "language": "python",
   "name": "python3"
  },
  "language_info": {
   "codemirror_mode": {
    "name": "ipython",
    "version": 3
   },
   "file_extension": ".py",
   "mimetype": "text/x-python",
   "name": "python",
   "nbconvert_exporter": "python",
   "pygments_lexer": "ipython3",
   "version": "3.9.7"
  }
 },
 "nbformat": 4,
 "nbformat_minor": 5
}
