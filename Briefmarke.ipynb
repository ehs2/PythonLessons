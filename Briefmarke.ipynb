{
 "cells": [
  {
   "attachments": {
    "briefmarke.png": {
     "image/png": "[encoded data removed]"
    }
   },
   "cell_type": "markdown",
   "id": "2e865ebb",
   "metadata": {},
   "source": [
    "### Briefmarke zeichnen\n",
    "Lassen Sie Bob eine Briefmarke wie abgebildet zeichnen.\n",
    "Kopieren Sie sich das Notebook aus dem \"lessons\" Ordner raus, damit es nicht überschrieben wird\n",
    "\n",
    "![briefmarke.png](attachment:briefmarke.png)"
   ]
  },
  {
   "cell_type": "code",
   "execution_count": null,
   "id": "7b26e10d",
   "metadata": {},
   "outputs": [],
   "source": [
    "# Mit einem Import kann von anderen Programmiererinnnen erstellter Code\n",
    "# in dem eigenen Programm genutzt werden\n",
    "\n",
    "import ipyturtle3 as turtle\n",
    "from ipyturtle3 import hold_canvas\n",
    "\n",
    "#Eine Zeichenfläche/Lewinwand erzeugen\n",
    "myCanvas=turtle.Canvas(width=800,height=500)\n",
    "#Leinwand anzeigen\n",
    "display(myCanvas)\n",
    "myTS=turtle.TurtleScreen(myCanvas)\n",
    "#Leinwandfarbe setzen\n",
    "myTS.bgcolor(\"lightblue\")\n",
    "#myTS.bgcolor(122012)\n",
    "myTS.clear()\n",
    "\n",
    "#Bob wird als Schildkröte erzeugt und auf dem TurtleScreen angezeigt\n",
    "bob=turtle.Turtle(myTS)\n",
    "\n",
    "#Das Aussehen wird auf Schildkröte gesetzt\n",
    "bob.shape(\"turtle\")\n",
    "#Die Geschwindigkeit der Turtle\n",
    "myTS.delay(20)\n",
    "\n",
    "#lassen Sie Bob eine Briefmarke zeichnen\n",
    "\n",
    "bob.color('red')\n",
    "bob.forward(20)\n",
    "bob.turnright(90)\n",
    "bob.forward(20)\n",
    "bob.turnleft(90)\n",
    "bob.forward(20)\n",
    "bob.turnleft(90)\n",
    "bob.forward(20)\n",
    "bob.turnright(90)\n",
    "\n",
    "bob.color('black')\n",
    "bob.forward(20)\n",
    "bob.turnright(90)\n",
    "    "
   ]
  },
  {
   "cell_type": "markdown",
   "id": "911d310c",
   "metadata": {},
   "source": [
    "### Briefmarke in unterschiedlichen Größen\n",
    "Fragen Sie zu beginn ihres Programms wie viele Zähne die Briefmarke haben soll.\n"
   ]
  },
  {
   "cell_type": "code",
   "execution_count": 2,
   "id": "c4b888b4",
   "metadata": {},
   "outputs": [
    {
     "name": "stdout",
     "output_type": "stream",
     "text": [
      "Gib:6\n",
      "6\n"
     ]
    }
   ],
   "source": [
    "eingabe = input(\"Gib:\")\n",
    "anzahl = int(eingabe)\n",
    "print(anzahl)"
   ]
  },
  {
   "cell_type": "code",
   "execution_count": null,
   "id": "7a9d8bfa",
   "metadata": {},
   "outputs": [],
   "source": []
  }
 ],
 "metadata": {
  "hide_input": false,
  "kernelspec": {
   "display_name": "Python 3 (ipykernel)",
   "language": "python",
   "name": "python3"
  },
  "language_info": {
   "codemirror_mode": {
    "name": "ipython",
    "version": 3
   },
   "file_extension": ".py",
   "mimetype": "text/x-python",
   "name": "python",
   "nbconvert_exporter": "python",
   "pygments_lexer": "ipython3",
   "version": "3.9.7"
  }
 },
 "nbformat": 4,
 "nbformat_minor": 5
}
