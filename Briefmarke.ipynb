{
 "cells": [
  {
   "cell_type": "code",
   "execution_count": 1,
   "id": "7b26e10d",
   "metadata": {},
   "outputs": [
    {
     "data": {
      "application/vnd.jupyter.widget-view+json": {
       "model_id": "4e319ada2c8143ee819a9ea4b0181978",
       "version_major": 2,
       "version_minor": 0
      },
      "text/plain": [
       "Canvas(width=800)"
      ]
     },
     "metadata": {},
     "output_type": "display_data"
    }
   ],
   "source": [
    "# Mit einem Import kann von anderen Programmiererinnnen erstellter Code\n",
    "# in dem eigenen Programm genutzt werden\n",
    "\n",
    "import ipyturtle3 as turtle\n",
    "from ipyturtle3 import hold_canvas\n",
    "\n",
    "#Eine Zeichenfläche/Lewinwand erzeugen\n",
    "myCanvas=turtle.Canvas(width=800,height=500)\n",
    "#Leinwand anzeigen\n",
    "display(myCanvas)\n",
    "myTS=turtle.TurtleScreen(myCanvas)\n",
    "#Leinwandfarbe setzen\n",
    "myTS.bgcolor(\"lightblue\")\n",
    "#myTS.bgcolor(122012)\n",
    "myTS.clear()\n",
    "\n",
    "#Bob wird als Schildkröte erzeugt und auf dem TurtleScreen angezeigt\n",
    "bob=turtle.Turtle(myTS)\n",
    "\n",
    "#Das Aussehen wird auf Schildkröte gesetzt\n",
    "bob.shape(\"turtle\")\n",
    "#Die Geschwindigkeit der Turtle\n",
    "myTS.delay(20)\n",
    "\n",
    "#lassen Sie Bob das obige Sechseck zeichen\n",
    "for i in range(4):\n",
    "    bob.forward(40)\n",
    "    bob.turnright(90)\n",
    "    bob.forward(40)\n",
    "    bob.turnleft(90)\n",
    "    bob.forward(40)\n",
    "    bob.turnleft(90)\n",
    "    bob.forward(40)\n",
    "    bob.turnright(90)\n",
    "bob.forward(40)\n",
    "bob.turnright(90)\n",
    "bob.forward(40)\n",
    "bob.turnleft(90)\n",
    "\n",
    "for i in range(4):\n",
    "    bob.forward(40)\n",
    "    bob.turnright(90)\n",
    "    bob.forward(40)\n",
    "    bob.turnleft(90)\n",
    "    bob.forward(40)\n",
    "    bob.turnleft(90)\n",
    "    bob.forward(40)\n",
    "    bob.turnright(90)"
   ]
  },
  {
   "cell_type": "code",
   "execution_count": null,
   "id": "87dce747",
   "metadata": {},
   "outputs": [],
   "source": []
  },
  {
   "cell_type": "code",
   "execution_count": null,
   "id": "3cbaf2da",
   "metadata": {},
   "outputs": [],
   "source": []
  },
  {
   "cell_type": "code",
   "execution_count": null,
   "id": "bc2b6323",
   "metadata": {},
   "outputs": [],
   "source": []
  },
  {
   "cell_type": "code",
   "execution_count": null,
   "id": "43563443",
   "metadata": {},
   "outputs": [],
   "source": []
  }
 ],
 "metadata": {
  "hide_input": false,
  "kernelspec": {
   "display_name": "Python 3 (ipykernel)",
   "language": "python",
   "name": "python3"
  },
  "language_info": {
   "codemirror_mode": {
    "name": "ipython",
    "version": 3
   },
   "file_extension": ".py",
   "mimetype": "text/x-python",
   "name": "python",
   "nbconvert_exporter": "python",
   "pygments_lexer": "ipython3",
   "version": "3.9.7"
  }
 },
 "nbformat": 4,
 "nbformat_minor": 5
}
