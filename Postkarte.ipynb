{
 "cells": [
  {
   "cell_type": "code",
   "execution_count": 1,
   "id": "e652313d",
   "metadata": {},
   "outputs": [
    {
     "data": {
      "application/vnd.jupyter.widget-view+json": {
       "model_id": "05266d94020f42449edab8d74d565656",
       "version_major": 2,
       "version_minor": 0
      },
      "text/plain": [
       "Canvas(width=500)"
      ]
     },
     "metadata": {},
     "output_type": "display_data"
    }
   ],
   "source": [
    "# Mit einem Import kann von anderen Programmiererinnnen erstellter Code\n",
    "# in dem eigenen Programm genutzt werden\n",
    "\n",
    "import ipyturtle3 as turtle\n",
    "from ipyturtle3 import hold_canvas\n",
    "\n",
    "#Eine Zeichenfläche/Lewinwand erzeugen\n",
    "myCanvas=turtle.Canvas(width=500,height=500)\n",
    "#Leinwand anzeigen\n",
    "display(myCanvas)\n",
    "myTS=turtle.TurtleScreen(myCanvas)\n",
    "#Leinwandfarbe setzen\n",
    "myTS.bgcolor(\"lightblue\")\n",
    "#myTS.bgcolor(122012)\n",
    "myTS.clear()\n",
    "\n",
    "#Bob wird als Schildkröte erzeugt und auf dem TurtleScreen angezeigt\n",
    "bob=turtle.Turtle(myTS)\n",
    "\n",
    "#Das Aussehen wird auf Schildkröte gesetzt\n",
    "bob.shape(\"turtle\")\n",
    "#Die Geschwindigkeit der Turtle\n",
    "myTS.delay(5)\n",
    "\n",
    "#lassen Sie Bob das obige Sechseck zeichen\n",
    "\n",
    "\n",
    "for i in range(3):\n",
    "    bob.forward (20)\n",
    "    bob.right (90)\n",
    "    bob.forward (20)\n",
    "    bob.left (90)\n",
    "    bob.forward (20)\n",
    "    bob.left (90)\n",
    "    bob.forward (20)\n",
    "    bob.right (90)\n",
    "bob.forward (20)\n",
    "bob.right (90)\n",
    "for i in range(3):\n",
    "    bob.forward (20)\n",
    "    bob.right (90)\n",
    "    bob.forward (20)\n",
    "    bob.left (90)\n",
    "    bob.forward (20)\n",
    "    bob.left (90)\n",
    "    bob.forward (20)\n",
    "    bob.right (90)\n",
    "bob.forward (20)\n",
    "bob.right (90)"
   ]
  },
  {
   "cell_type": "code",
   "execution_count": null,
   "id": "4e4a12c8",
   "metadata": {},
   "outputs": [],
   "source": []
  },
  {
   "cell_type": "code",
   "execution_count": null,
   "id": "7b96a442",
   "metadata": {},
   "outputs": [],
   "source": []
  }
 ],
 "metadata": {
  "hide_input": false,
  "kernelspec": {
   "display_name": "Python 3 (ipykernel)",
   "language": "python",
   "name": "python3"
  },
  "language_info": {
   "codemirror_mode": {
    "name": "ipython",
    "version": 3
   },
   "file_extension": ".py",
   "mimetype": "text/x-python",
   "name": "python",
   "nbconvert_exporter": "python",
   "pygments_lexer": "ipython3",
   "version": "3.9.7"
  }
 },
 "nbformat": 4,
 "nbformat_minor": 5
}
