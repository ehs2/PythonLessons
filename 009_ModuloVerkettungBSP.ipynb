{
 "cells": [
  {
   "cell_type": "code",
   "execution_count": 3,
   "id": "ec222531",
   "metadata": {},
   "outputs": [
    {
     "name": "stdout",
     "output_type": "stream",
     "text": [
      "range(0, 4)\n"
     ]
    }
   ],
   "source": [
    "print(range(4))"
   ]
  },
  {
   "cell_type": "code",
   "execution_count": 1,
   "id": "4414112d",
   "metadata": {},
   "outputs": [
    {
     "name": "stdout",
     "output_type": "stream",
     "text": [
      "5\n"
     ]
    }
   ],
   "source": [
    "print(str(17%6))"
   ]
  },
  {
   "cell_type": "code",
   "execution_count": 6,
   "id": "840e4855",
   "metadata": {},
   "outputs": [
    {
     "name": "stdout",
     "output_type": "stream",
     "text": [
      "0 ist gerade\n",
      "2 ist gerade\n",
      "4 ist gerade\n",
      "6 ist gerade\n",
      "8 ist gerade\n",
      "10 ist gerade\n",
      "12 ist gerade\n",
      "14 ist gerade\n",
      "16 ist gerade\n",
      "18 ist gerade\n",
      "20 ist gerade\n",
      "22 ist gerade\n",
      "24 ist gerade\n"
     ]
    }
   ],
   "source": [
    "for i in range(25):\n",
    "    if(i%2==0):\n",
    "        print(str(i) + \" ist gerade\")"
   ]
  },
  {
   "cell_type": "code",
   "execution_count": 11,
   "id": "73f8cd38",
   "metadata": {},
   "outputs": [
    {
     "name": "stdout",
     "output_type": "stream",
     "text": [
      "*\n",
      "***\n",
      "*****\n",
      "*******\n",
      "*********\n",
      "***********\n",
      "*************\n",
      "***************\n",
      "*****************\n",
      "*******************\n"
     ]
    }
   ],
   "source": [
    "for zahl in range(21):\n",
    "    if (zahl%2!=0):\n",
    "        print(\"*\"*zahl)"
   ]
  },
  {
   "cell_type": "code",
   "execution_count": null,
   "id": "cf1f5823",
   "metadata": {},
   "outputs": [],
   "source": []
  }
 ],
 "metadata": {
  "hide_input": false,
  "kernelspec": {
   "display_name": "Python 3 (ipykernel)",
   "language": "python",
   "name": "python3"
  },
  "language_info": {
   "codemirror_mode": {
    "name": "ipython",
    "version": 3
   },
   "file_extension": ".py",
   "mimetype": "text/x-python",
   "name": "python",
   "nbconvert_exporter": "python",
   "pygments_lexer": "ipython3",
   "version": "3.9.7"
  }
 },
 "nbformat": 4,
 "nbformat_minor": 5
}
