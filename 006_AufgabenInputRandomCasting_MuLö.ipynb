{
 "cells": [
  {
   "cell_type": "markdown",
   "id": "26ff6320",
   "metadata": {},
   "source": [
    "# Zufallszahlen\n",
    "Erstellen Sie ein Programm, dass Ihnen eine Liste mit 10 zufälligen ganzen 10-stelligen Zahlen ausgibt."
   ]
  },
  {
   "cell_type": "code",
   "execution_count": 1,
   "id": "a206a699",
   "metadata": {},
   "outputs": [
    {
     "name": "stdout",
     "output_type": "stream",
     "text": [
      "9486399212\n",
      "1562972117\n",
      "2813685554\n",
      "2006817565\n",
      "8746682667\n",
      "9979811936\n",
      "5828880044\n",
      "3941036805\n",
      "6344159811\n",
      "6203157122\n"
     ]
    }
   ],
   "source": [
    "import random\n",
    "for i in range(10):\n",
    "    print(random.randint(1000000000,9999999999))"
   ]
  },
  {
   "cell_type": "markdown",
   "id": "13544685",
   "metadata": {},
   "source": [
    "# Passwort generator\n",
    "Estellen Sie ein Programm das Ihnen ein Passwort nach folgendem Schema generiert:\n",
    "Lieblingstier + lieblingszahl zwischen 1 und 99 +eingegebenens Sonderzeichen+ zufällige 4-stelige Zahl\n",
    "\n",
    "Beispiel\n",
    "Wie heißt ihr Lieblingstier: Esel\n",
    "Wie lautet ihre Lieblingszahl zwischwen 1 und 99?: 17\n",
    "Geben Sie ein Sonderzeichen ein: *\n",
    "\n",
    "Ihr Passwort lautet: Esel17*3342\n"
   ]
  },
  {
   "cell_type": "code",
   "execution_count": null,
   "id": "5eeec3b8",
   "metadata": {},
   "outputs": [],
   "source": [
    "import random \n",
    "\n",
    "print('Hello! Whats your Name?')\n",
    "myName = input()\n",
    "\n",
    "print('Well, ' + myName + ', what is your favourite Animal?')\n",
    "favAnimal = input()\n",
    "\n",
    "print('Wow! ' + favAnimal + ', is so cool! What is your Favourite number between 1 and 99?')\n",
    "favNumber = input()\n",
    "\n",
    "print('So,' + favNumber + ' it is then? Neat! Now a special Character please.')\n",
    "specChara = input()\n",
    "\n",
    "print('Thats good, thank you for ' + specChara + '! and Last, a random 4 digit long number!')\n",
    "number = random.randint(1000, 9999)\n",
    "\n",
    "print('Thank you! your Password is: ' + favAnimal + favNumber + specChara + str(number) + ' , I hope you like it!')"
   ]
  },
  {
   "cell_type": "code",
   "execution_count": 6,
   "id": "04722601",
   "metadata": {},
   "outputs": [
    {
     "ename": "ValueError",
     "evalue": "invalid literal for int() with base 10: 'neun'",
     "output_type": "error",
     "traceback": [
      "\u001b[0;31m---------------------------------------------------------------------------\u001b[0m",
      "\u001b[0;31mValueError\u001b[0m                                Traceback (most recent call last)",
      "Cell \u001b[0;32mIn[6], line 3\u001b[0m\n\u001b[1;32m      1\u001b[0m a \u001b[38;5;241m=\u001b[39m \u001b[38;5;124m\"\u001b[39m\u001b[38;5;124mneun\u001b[39m\u001b[38;5;124m\"\u001b[39m\n\u001b[1;32m      2\u001b[0m b \u001b[38;5;241m=\u001b[39m \u001b[38;5;241m1\u001b[39m\n\u001b[0;32m----> 3\u001b[0m \u001b[38;5;28mprint\u001b[39m(\u001b[38;5;28;43mint\u001b[39;49m\u001b[43m(\u001b[49m\u001b[43ma\u001b[49m\u001b[43m)\u001b[49m\u001b[38;5;241m+\u001b[39mb)\n",
      "\u001b[0;31mValueError\u001b[0m: invalid literal for int() with base 10: 'neun'"
     ]
    }
   ],
   "source": [
    "a = \"neun\"\n",
    "b = 1\n",
    "print(int(a)+b)"
   ]
  },
  {
   "cell_type": "code",
   "execution_count": 7,
   "id": "86c0e8dd",
   "metadata": {},
   "outputs": [
    {
     "name": "stdout",
     "output_type": "stream",
     "text": [
      "Was ist dein Lieblingstier?\n",
      "Afef\n",
      "Was ist dein Lieblingszahl?\n",
      "45\n",
      "Ein Sonderzeichen deiner Wahl\n",
      "!\n",
      "Dein Passwort lautet: Afef45!4471\n"
     ]
    }
   ],
   "source": [
    "import random\n",
    "print('Was ist dein Lieblingstier?')\n",
    "tier = input()\n",
    "print('Was ist dein Lieblingszahl?')\n",
    "zahl = input()\n",
    "print('Ein Sonderzeichen deiner Wahl')\n",
    "sonderZeichen = input()\n",
    "zufallsZahl = random.randint(1000,9999)\n",
    "print('Dein Passwort lautet: '+ tier + zahl + sonderZeichen + str(zufallsZahl))"
   ]
  },
  {
   "cell_type": "code",
   "execution_count": null,
   "id": "567b9913",
   "metadata": {},
   "outputs": [],
   "source": []
  }
 ],
 "metadata": {
  "hide_input": false,
  "kernelspec": {
   "display_name": "Python 3 (ipykernel)",
   "language": "python",
   "name": "python3"
  },
  "language_info": {
   "codemirror_mode": {
    "name": "ipython",
    "version": 3
   },
   "file_extension": ".py",
   "mimetype": "text/x-python",
   "name": "python",
   "nbconvert_exporter": "python",
   "pygments_lexer": "ipython3",
   "version": "3.9.7"
  }
 },
 "nbformat": 4,
 "nbformat_minor": 5
}
