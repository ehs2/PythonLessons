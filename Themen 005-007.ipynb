{
 "cells": [
  {
   "cell_type": "markdown",
   "id": "bef63b62",
   "metadata": {},
   "source": [
    "# Themen 005 - 007\n",
    "## Funktionen\n",
    "## WHILE-Schleifen\n",
    "## Boolesche Algebra\n",
    "## ASCII-Art\n",
    "## Mehrzeilige PRINT Ausgaben\n",
    "## Namensgebung Variablen und Funktionen\n",
    "## PAP Programmablaufplan\n",
    "## range-Funktion\n",
    "\n"
   ]
  },
  {
   "cell_type": "code",
   "execution_count": null,
   "id": "acdc1583",
   "metadata": {},
   "outputs": [],
   "source": []
  },
  {
   "cell_type": "code",
   "execution_count": null,
   "id": "d2c5aa8a",
   "metadata": {},
   "outputs": [],
   "source": []
  }
 ],
 "metadata": {
  "hide_input": false,
  "kernelspec": {
   "display_name": "Python 3 (ipykernel)",
   "language": "python",
   "name": "python3"
  },
  "language_info": {
   "codemirror_mode": {
    "name": "ipython",
    "version": 3
   },
   "file_extension": ".py",
   "mimetype": "text/x-python",
   "name": "python",
   "nbconvert_exporter": "python",
   "pygments_lexer": "ipython3",
   "version": "3.9.7"
  }
 },
 "nbformat": 4,
 "nbformat_minor": 5
}
