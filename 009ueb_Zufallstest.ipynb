{
 "cells": [
  {
   "cell_type": "markdown",
   "id": "ea1530f8",
   "metadata": {},
   "source": [
    "# Zufallszahlentest\n",
    "Ein Programm das den Zufallszahlengenerator \"testet\"\n",
    "\n",
    "Es soll:\n",
    "* Prüfen ob eine Zahl gerade oder ungerade ist\n",
    "* Das jeweilige Auftreten zählen\n",
    "* Nutzer gibt die Obergrenze der Zufallszahl an\n",
    "* Nutzer gibt an wie oft \"gezogen\" werden soll"
   ]
  },
  {
   "cell_type": "code",
   "execution_count": 1,
   "id": "dd678621",
   "metadata": {},
   "outputs": [
    {
     "name": "stdout",
     "output_type": "stream",
     "text": [
      "Gib eine obere Grenze an:2\n",
      "Wie oft soll das ausgeführt werden?:5\n",
      "2\n",
      "1\n",
      "2\n",
      "2\n",
      "1\n",
      "Anzahl gerade Zahlen: 3\n",
      "Anzahl UNgerade Zahlen: 2\n",
      "Durchläufe:5\n"
     ]
    }
   ],
   "source": []
  },
  {
   "cell_type": "code",
   "execution_count": null,
   "id": "6f36ed48",
   "metadata": {},
   "outputs": [],
   "source": []
  }
 ],
 "metadata": {
  "hide_input": false,
  "kernelspec": {
   "display_name": "Python 3 (ipykernel)",
   "language": "python",
   "name": "python3"
  },
  "language_info": {
   "codemirror_mode": {
    "name": "ipython",
    "version": 3
   },
   "file_extension": ".py",
   "mimetype": "text/x-python",
   "name": "python",
   "nbconvert_exporter": "python",
   "pygments_lexer": "ipython3",
   "version": "3.9.7"
  }
 },
 "nbformat": 4,
 "nbformat_minor": 5
}
