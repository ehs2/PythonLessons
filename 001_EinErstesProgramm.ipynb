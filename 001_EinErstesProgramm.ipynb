{
 "cells": [
  {
   "cell_type": "markdown",
   "id": "c281961b",
   "metadata": {},
   "source": [
    "# Eine Grafik zeichnen mit der Turtle Bob\n",
    "ZUnächst zeichnen wir mit Hilfe der Schildkröte Bob einige einfache Grafiken.\n",
    "Die Turtle hinterlässt einen Strich auf dem Weg.\n",
    "Man kann die Turtle mit einfachen Befehlen steuern.\n"
   ]
  },
  {
   "cell_type": "code",
   "execution_count": 14,
   "id": "320789e7",
   "metadata": {},
   "outputs": [
    {
     "data": {
      "application/vnd.jupyter.widget-view+json": {
       "model_id": "4cb3f45484644fa3ac82564bf14a9bcd",
       "version_major": 2,
       "version_minor": 0
      },
      "text/plain": [
       "Canvas(height=250, width=500)"
      ]
     },
     "metadata": {},
     "output_type": "display_data"
    }
   ],
   "source": [
    "# Mit einem Import kann von anderen Programmiererinnnen erstellter Code\n",
    "# in dem eigenen Programm genutzt werden\n",
    "\n",
    "import ipyturtle3 as turtle\n",
    "from ipyturtle3 import hold_canvas\n",
    "\n",
    "#Eine Zeichenfläche/Lewinwand erzeugen\n",
    "myCanvas=turtle.Canvas(width=500,height=250)\n",
    "#Leinwand anzeigen\n",
    "display(myCanvas)\n",
    "myTS=turtle.TurtleScreen(myCanvas)\n",
    "#Leinwandfarbe setzen\n",
    "myTS.bgcolor(\"lightblue\")\n",
    "#myTS.bgcolor(122012)\n",
    "myTS.clear()\n",
    "\n",
    "#Bob wird als Schildkröte erzeugt und auf dem TurtleScreen angezeigt\n",
    "bob=turtle.Turtle(myTS)\n",
    "\n",
    "#Das Aussehen wird auf Schildkröte gesetzt\n",
    "bob.shape(\"turtle\")\n",
    "#Die Geschwindigkeit der Turtle\n",
    "myTS.delay(20)\n",
    "\n",
    "bob.forward(50)\n",
    "bob.left(90)\n",
    "bob.forward(50)\n",
    "bob.left(90)\n",
    "bob.forward(50)\n",
    "bob.left(90)\n",
    "bob.forward(50)"
   ]
  },
  {
   "cell_type": "markdown",
   "id": "9a10933a",
   "metadata": {},
   "source": [
    "# Aufgabe Haus vom Nikolaus\n",
    "\n",
    "Kopiere den obigen Quellcode in ein neues Notebook und zeichne das [Haus vom Nikolaus](https://de.wikipedia.org/wiki/Haus_vom_Nikolaus)"
   ]
  },
  {
   "cell_type": "code",
   "execution_count": null,
   "id": "0a3f43fb",
   "metadata": {},
   "outputs": [],
   "source": []
  }
 ],
 "metadata": {
  "hide_input": false,
  "kernelspec": {
   "display_name": "Python 3 (ipykernel)",
   "language": "python",
   "name": "python3"
  },
  "language_info": {
   "codemirror_mode": {
    "name": "ipython",
    "version": 3
   },
   "file_extension": ".py",
   "mimetype": "text/x-python",
   "name": "python",
   "nbconvert_exporter": "python",
   "pygments_lexer": "ipython3",
   "version": "3.9.7"
  }
 },
 "nbformat": 4,
 "nbformat_minor": 5
}
