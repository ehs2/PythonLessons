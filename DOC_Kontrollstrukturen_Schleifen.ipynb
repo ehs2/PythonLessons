{
 "cells": [
  {
   "cell_type": "markdown",
   "id": "f0668b81",
   "metadata": {},
   "source": [
    "# Kontrollstrukturen: Schleifen\n",
    "Mit Kontrollstrukturen kann man dan den Programmfluss steuern. Bei Schleifen gibt es in Python unterschiedliche Typen (for-Schleifen und while-Schleifen). Welchen Typ man einsetzt hängt vom konkreten Programmierauftrag ab.\n",
    "\n",
    "## Die for-Schleife\n",
    "\n",
    "\n",
    "\n",
    "\n"
   ]
  }
 ],
 "metadata": {
  "hide_input": false,
  "kernelspec": {
   "display_name": "Python 3 (ipykernel)",
   "language": "python",
   "name": "python3"
  },
  "language_info": {
   "codemirror_mode": {
    "name": "ipython",
    "version": 3
   },
   "file_extension": ".py",
   "mimetype": "text/x-python",
   "name": "python",
   "nbconvert_exporter": "python",
   "pygments_lexer": "ipython3",
   "version": "3.9.7"
  }
 },
 "nbformat": 4,
 "nbformat_minor": 5
}
