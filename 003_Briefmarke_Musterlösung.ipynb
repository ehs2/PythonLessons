{
 "cells": [
  {
   "attachments": {
    "briefmarke.png": {
     "image/png": "[encoded data removed]"
    }
   },
   "cell_type": "markdown",
   "id": "2e865ebb",
   "metadata": {},
   "source": [
    "### Briefmarke zeichnen\n",
    "Lassen Sie Bob eine Briefmarke wie abgebildet zeichnen.\n",
    "Kopieren Sie sich das Notebook aus dem \"lessons\" Ordner raus, damit es nicht überschrieben wird\n",
    "\n",
    "![briefmarke.png](attachment:briefmarke.png)\n",
    "\n"
   ]
  },
  {
   "cell_type": "code",
   "execution_count": 1,
   "id": "7b26e10d",
   "metadata": {},
   "outputs": [
    {
     "data": {
      "application/vnd.jupyter.widget-view+json": {
       "model_id": "be805a2b3eaf42ea91e418d4863f691d",
       "version_major": 2,
       "version_minor": 0
      },
      "text/plain": [
       "Canvas(width=800)"
      ]
     },
     "metadata": {},
     "output_type": "display_data"
    }
   ],
   "source": [
    "# Mit einem Import kann von anderen Programmiererinnnen erstellter Code\n",
    "# in dem eigenen Programm genutzt werden\n",
    "\n",
    "import ipyturtle3 as turtle\n",
    "from ipyturtle3 import hold_canvas\n",
    "\n",
    "#Eine Zeichenfläche/Lewinwand erzeugen\n",
    "myCanvas=turtle.Canvas(width=800,height=500)\n",
    "#Leinwand anzeigen\n",
    "display(myCanvas)\n",
    "myTS=turtle.TurtleScreen(myCanvas)\n",
    "#Leinwandfarbe setzen\n",
    "myTS.bgcolor(\"lightblue\")\n",
    "#myTS.bgcolor(122012)\n",
    "myTS.clear()\n",
    "\n",
    "#Bob wird als Schildkröte erzeugt und auf dem TurtleScreen angezeigt\n",
    "bob=turtle.Turtle(myTS)\n",
    "\n",
    "#Das Aussehen wird auf Schildkröte gesetzt\n",
    "bob.shape(\"turtle\")\n",
    "#Die Geschwindigkeit der Turtle\n",
    "myTS.delay(20)\n",
    "\n",
    "#lassen Sie Bob eine Briefmarke zeichnen\n",
    "#vier Seiten\n",
    "for j in range(4):\n",
    "    #Anzahl \"Zähne\"\n",
    "    for i in range(4):\n",
    "        bob.color('red')\n",
    "        bob.forward(20)\n",
    "        bob.turnright(90)\n",
    "        bob.forward(20)\n",
    "        bob.turnleft(90)\n",
    "        bob.forward(20)\n",
    "        bob.turnleft(90)\n",
    "        bob.forward(20)\n",
    "        bob.turnright(90)\n",
    "    #Kurve in der Ecke   \n",
    "    bob.color('black')\n",
    "    bob.forward(20)\n",
    "    bob.turnright(90)    "
   ]
  },
  {
   "cell_type": "markdown",
   "id": "911d310c",
   "metadata": {},
   "source": [
    "### Briefmarke in unterschiedlichen Größen\n",
    "Fragen Sie zu beginn ihres Programms wie viele Zähne die Briefmarke haben soll.\n",
    "\n",
    "Diese Variante kann nur quadratische Briefmarken!\n"
   ]
  },
  {
   "cell_type": "code",
   "execution_count": 1,
   "id": "c4b888b4",
   "metadata": {},
   "outputs": [
    {
     "data": {
      "application/vnd.jupyter.widget-view+json": {
       "model_id": "0e5c17fc7cab4ca6ae59ed92df74b5f1",
       "version_major": 2,
       "version_minor": 0
      },
      "text/plain": [
       "Canvas(width=800)"
      ]
     },
     "metadata": {},
     "output_type": "display_data"
    },
    {
     "name": "stdout",
     "output_type": "stream",
     "text": [
      "Gib:8\n",
      "8\n"
     ]
    }
   ],
   "source": [
    "# Mit einem Import kann von anderen Programmiererinnnen erstellter Code\n",
    "# in dem eigenen Programm genutzt werden\n",
    "\n",
    "import ipyturtle3 as turtle\n",
    "from ipyturtle3 import hold_canvas\n",
    "\n",
    "#Eine Zeichenfläche/Lewinwand erzeugen\n",
    "myCanvas=turtle.Canvas(width=800,height=500)\n",
    "#Leinwand anzeigen\n",
    "display(myCanvas)\n",
    "myTS=turtle.TurtleScreen(myCanvas)\n",
    "#Leinwandfarbe setzen\n",
    "myTS.bgcolor(\"lightblue\")\n",
    "#myTS.bgcolor(122012)\n",
    "myTS.clear()\n",
    "\n",
    "#Bob wird als Schildkröte erzeugt und auf dem TurtleScreen angezeigt\n",
    "bob=turtle.Turtle(myTS)\n",
    "\n",
    "#Das Aussehen wird auf Schildkröte gesetzt\n",
    "bob.shape(\"turtle\")\n",
    "#Die Geschwindigkeit der Turtle\n",
    "myTS.delay(5)\n",
    "\n",
    "#lassen Sie Bob eine Briefmarke zeichnen\n",
    "eingabe = int(input(\"Gib eine Anzahlzaehne ein:\"))\n",
    "#vier Seiten\n",
    "\n",
    "for j in range(4):\n",
    "    #Anzahl \"Zähne\"\n",
    "    for i in range(eingabe):\n",
    "        bob.color('red')\n",
    "        bob.forward(20)\n",
    "        bob.turnright(90)\n",
    "        bob.forward(20)\n",
    "        bob.turnleft(90)\n",
    "        bob.forward(20)\n",
    "        bob.turnleft(90)\n",
    "        bob.forward(20)\n",
    "        bob.turnright(90)\n",
    "    #Kurve in der Ecke   \n",
    "    bob.color('black')\n",
    "    bob.forward(20)\n",
    "    bob.turnright(90)    "
   ]
  }
 ],
 "metadata": {
  "hide_input": false,
  "kernelspec": {
   "display_name": "Python 3 (ipykernel)",
   "language": "python",
   "name": "python3"
  },
  "language_info": {
   "codemirror_mode": {
    "name": "ipython",
    "version": 3
   },
   "file_extension": ".py",
   "mimetype": "text/x-python",
   "name": "python",
   "nbconvert_exporter": "python",
   "pygments_lexer": "ipython3",
   "version": "3.9.7"
  }
 },
 "nbformat": 4,
 "nbformat_minor": 5
}
