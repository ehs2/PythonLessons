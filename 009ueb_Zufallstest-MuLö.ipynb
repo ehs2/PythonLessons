{
 "cells": [
  {
   "cell_type": "markdown",
   "id": "ea1530f8",
   "metadata": {},
   "source": [
    "# Zufallszahlentest\n",
    "Ein Programm das den Zufallszahlengenerator \"testet\"\n",
    "\n",
    "Es soll:\n",
    "* Prüfen ob eine Zahl gerade oder ungerade ist\n",
    "* Das jeweilige Auftreten zählen\n",
    "* Nutzer gibt die Obergrenze der Zufallszahl an\n",
    "* Nutzer gibt an wie oft \"gezogen\" werden soll"
   ]
  },
  {
   "cell_type": "code",
   "execution_count": 37,
   "id": "dd678621",
   "metadata": {},
   "outputs": [
    {
     "name": "stdout",
     "output_type": "stream",
     "text": [
      "Gib obere Grenze:49\n",
      "Gib Anzahl Versuche:100\n",
      "Ich habe so oft gezogen:100\n",
      "Ich habe ein Zahl zwishcn 1 und 100gezogen\n",
      "46\n"
     ]
    }
   ],
   "source": [
    "import random\n",
    "obereGrenze=int(input(\"Gib obere Grenze:\"))\n",
    "anzahlVersuche=int(input(\"Gib Anzahl Versuche:\"))\n",
    "anzahlGeradeZahlen =0\n",
    "\n",
    "for i in range(anzahlVersuche):\n",
    "    gezogeneZahl=random.randint(1,obereGrenze)\n",
    "    if(gezogeneZahl%2==0):\n",
    "        anzahlGeradeZahlen=anzahlGeradeZahlen+1\n",
    "print(\"Ich habe so oft gezogen:\"+str(anzahlVersuche))   \n",
    "print(\"Ich habe ein Zahl zwishcn 1 und \"+str(anzahlVersuche)+\"gezogen\")\n",
    "print(anzahlGeradeZahlen)\n",
    "        "
   ]
  },
  {
   "cell_type": "code",
   "execution_count": null,
   "id": "6f36ed48",
   "metadata": {},
   "outputs": [],
   "source": []
  }
 ],
 "metadata": {
  "hide_input": false,
  "kernelspec": {
   "display_name": "Python 3 (ipykernel)",
   "language": "python",
   "name": "python3"
  },
  "language_info": {
   "codemirror_mode": {
    "name": "ipython",
    "version": 3
   },
   "file_extension": ".py",
   "mimetype": "text/x-python",
   "name": "python",
   "nbconvert_exporter": "python",
   "pygments_lexer": "ipython3",
   "version": "3.9.7"
  }
 },
 "nbformat": 4,
 "nbformat_minor": 5
}
