{
 "cells": [
  {
   "cell_type": "markdown",
   "id": "1a1d37f6",
   "metadata": {},
   "source": [
    "# Notebooks und Zellen\n",
    "\n",
    "In diesem Notebook probieren wir ein erstes kleines Python aus. Dabei geht es weniger um das Programmieren, sondern vielmehr um den Umgang mit Jupyter. "
   ]
  },
  {
   "cell_type": "markdown",
   "id": "52477b82",
   "metadata": {},
   "source": [
    "### Markdown-Zellen\n",
    "\n",
    "Die einzelnen Elemente eines Notebooks nennt man **Cells** oder **Zellen**. Jede enthält Inhalte von einem bestimmten **Typ**. Diese Zelle z.B. ist eine [**Markdown**](https://de.wikipedia.org/wiki/Markdown)-Zelle. Solche Zellen dienen dazu einen **formatierten Text** darzustellen.\n",
    "\n",
    "Markdown ist eine einfache Auszeichungssprache ähnlich wie HTML nur mit viel einfacherer Syntax. Das down ist ein nerdiges Wortspiel. Eben kein Markup wie HTML sondern ein Markdown ;-)"
   ]
  },
  {
   "cell_type": "markdown",
   "id": "0ddb465b",
   "metadata": {},
   "source": [
    "Durch einen **Doppelklick** auf eine Zelle sieht man ihren Quelltext. Will man sie in Ihrer **ausgeführten** Version sehen - also formatiert - muss man sie **ausführen**. Dies geschieht entweder mit dem Button **Run** in der Kopfzeile oder durch das Drücken der Tasten **Strg + Enter** bzw. **Ctrl + Enter**. "
   ]
  },
  {
   "cell_type": "markdown",
   "id": "d0e6a909",
   "metadata": {},
   "source": [
    "### Code-Zellen\n",
    "\n",
    "Die nächste Zelle ist eine **Code**-Zelle. D.h. sie enthält tatsächlich ausführbaren Quelltext bzw. Programmcode. In unserem Falle in der Programmiersprache Python."
   ]
  },
  {
   "cell_type": "code",
   "execution_count": null,
   "id": "2a277515",
   "metadata": {},
   "outputs": [],
   "source": [
    "print (\"Hallo Welt!\")"
   ]
  },
  {
   "cell_type": "markdown",
   "id": "11e57421",
   "metadata": {},
   "source": [
    "Probieren Sie sie mal aus, indem Sie sie *ausführen*. Markieren Sie die Zelle und anschliessend auf **Run**. Es sollte unterhalb der Zelle der Text `Hello world!` ausgegeben werden. Mehr zur Ausgabe erfahren Sie [hier](EinAusgabe.ipynb)."
   ]
  },
  {
   "cell_type": "markdown",
   "id": "a1aa340d",
   "metadata": {},
   "source": [
    "### Wechsel des Zell-Typs\n",
    "Den Typ einer Zelle können Sie entweder über den Menüpunkt *Cell -> Cell Type -> Code* oder *Cell -> Cell Type -> Markdown* ändern. Alternativ können Sie das **Dropdown-Menü** in der unteren Zeile verwenden (mal sehen, ob Sie es finden). Alternativ können Sie den Zelltyp auch über einen **Keyboard Shortcut** ändern. Dazu drücken Sie erst **Escape** und dann **Y** für eine Code-Zelle oder **M** für eine Markdown-Zelle."
   ]
  },
  {
   "cell_type": "code",
   "execution_count": null,
   "id": "d9c0ba10",
   "metadata": {},
   "outputs": [],
   "source": [
    "Mach mich zu MARKDOWN!"
   ]
  },
  {
   "cell_type": "markdown",
   "id": "1a6802e9",
   "metadata": {},
   "source": [
    "↑ Wenn Sie die Zelle hierdrüber einfach ausführen ohne den Typ zu ändern erhalten Sie eine Fehlermeldung. Es handelt sich um Markdown und nicht Python."
   ]
  },
  {
   "cell_type": "markdown",
   "id": "e6412487",
   "metadata": {},
   "source": [
    "### Keyboard Shortcuts\n",
    "\n",
    "Jupyter verfügt über eine ganze Reihe von Keyboard Shortcuts. Eine Übersicht finden Sie unter dem Menüpunkt *Help ->  Keyboard Shortcuts*."
   ]
  },
  {
   "cell_type": "markdown",
   "id": "d5667475",
   "metadata": {},
   "source": [
    "### Zellen hinzufügen und löschen\n",
    "\n",
    "Mittels des kleinen Plus in der Buttonleiste können Sie eine Zelle hinter der aktuellen einfügen. Mit der Schere daneben können Sie die aktuelle Zelle entfernen. ***Aber Achtung!*** Danach ist der Inhalt der Zelle weg!\n",
    "\n",
    "Naja! er ist nicht ganz weg. Mit der Taste **Z** können Sie die zuletzt gelöschte Zelle wieder herstellen."
   ]
  },
  {
   "cell_type": "markdown",
   "id": "bfccb44c",
   "metadata": {},
   "source": [
    "***Lösch mich!*** (und stell mich wieder her)"
   ]
  },
  {
   "cell_type": "markdown",
   "id": "5fa10031",
   "metadata": {},
   "source": [
    "Änderungen in einer Zelle können Sie mit **Strg+Z** rückgängig machen. "
   ]
  },
  {
   "cell_type": "markdown",
   "id": "732b5bf4",
   "metadata": {},
   "source": [
    "In den Keyboard Shortcuts finden Sie noch eine Reihe anderer nützlicher Dinge."
   ]
  },
  {
   "cell_type": "markdown",
   "id": "a40c9dee",
   "metadata": {},
   "source": [
    "<div class=\"followup\">\n",
    "    <h3>Wo man weitermachen kann</h3>\n",
    "    <div>\n",
    "    <ul>\n",
    "        <li>Ein erstes Programm schreibt man mit der <a class=\"followup\"                                                               href=\"/user-redirect/algoviz/lessons/01_Algorithmen/00_EinErstesProgramm.ipynb\">Turtle</a></li>\n",
    "    </ul>\n",
    "    </div>\n",
    "</div>"
   ]
  },
  {
   "cell_type": "markdown",
   "id": "be919e84",
   "metadata": {},
   "source": [
    "<hr>\n",
    "<span style=\"font-size:8pt\">\n",
    "<a href=\"https://creativecommons.org/licenses/by-sa/4.0/deed.de\"><img src=\"../img/licences/CC-BY-SA.svg\"></a>\n",
    "\n",
    "Alle Inhalte dieses Notebooks sind, ausgenommen der Personenbilder und sofern nicht an einzelnen Inhalten anderes angegeben, lizenziert unter der Creative Commons Lizenz CC BY SA 4.0\n",
    "        \n",
    "Große Teile sind entnommen und verändert worden: **AG Didaktik der Informatik, Universität Osnabrück**\n",
    "\n",
    "Namensnennung wie folgt: **Algorithmisierung und Programmierung (Q3AUP), F. Ehlers**\n",
    "   </span>"
   ]
  }
 ],
 "metadata": {
  "hide_input": false,
  "kernelspec": {
   "display_name": "Python 3 (ipykernel)",
   "language": "python",
   "name": "python3"
  },
  "language_info": {
   "codemirror_mode": {
    "name": "ipython",
    "version": 3
   },
   "file_extension": ".py",
   "mimetype": "text/x-python",
   "name": "python",
   "nbconvert_exporter": "python",
   "pygments_lexer": "ipython3",
   "version": "3.9.7"
  }
 },
 "nbformat": 4,
 "nbformat_minor": 5
}
