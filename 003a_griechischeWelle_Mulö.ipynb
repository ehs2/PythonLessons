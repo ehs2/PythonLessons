{
 "cells": [
  {
   "cell_type": "code",
   "execution_count": 6,
   "id": "21fca81b",
   "metadata": {},
   "outputs": [
    {
     "data": {
      "application/vnd.jupyter.widget-view+json": {
       "model_id": "18b43d858c68453289c768b66ece26d6",
       "version_major": 2,
       "version_minor": 0
      },
      "text/plain": [
       "Canvas(width=800)"
      ]
     },
     "metadata": {},
     "output_type": "display_data"
    }
   ],
   "source": [
    "# Mit einem Import kann von anderen Programmiererinnnen erstellter Code\n",
    "# in dem eigenen Programm genutzt werden\n",
    "\n",
    "import ipyturtle3 as turtle\n",
    "from ipyturtle3 import hold_canvas\n",
    "\n",
    "#Eine Zeichenfläche/Lewinwand erzeugen\n",
    "myCanvas=turtle.Canvas(width=800,height=500)\n",
    "#Leinwand anzeigen\n",
    "display(myCanvas)\n",
    "myTS=turtle.TurtleScreen(myCanvas)\n",
    "#Leinwandfarbe setzen\n",
    "myTS.bgcolor(\"lightblue\")\n",
    "#myTS.bgcolor(122012)\n",
    "myTS.clear()\n",
    "\n",
    "#Bob wird als Schildkröte erzeugt und auf dem TurtleScreen angezeigt\n",
    "bob=turtle.Turtle(myTS)\n",
    "\n",
    "#Das Aussehen wird auf Schildkröte gesetzt\n",
    "bob.shape(\"turtle\")\n",
    "\n",
    "#Die Geschwindigkeit der Turtle\n",
    "myTS.delay(5)\n",
    "\n",
    "for i in range(3):\n",
    "    bob.color('red')\n",
    "    bob.forward(100)\n",
    "    bob.turnleft(90)\n",
    "    bob.forward(80)\n",
    "    bob.turnleft(90)\n",
    "    bob.forward(60)\n",
    "    bob.turnleft(90)\n",
    "    bob.forward(40)\n",
    "    bob.turnleft(90)\n",
    "    bob.forward(20)\n",
    "    bob.turnleft(90)\n",
    "    bob.forward(20)\n",
    "    bob.turnright(90)\n",
    "    bob.forward(20)\n",
    "    bob.turnright(90)\n",
    "    bob.forward(40)\n",
    "    bob.turnright(90)\n",
    "    bob.forward(60)\n",
    "    bob.turnright(90)\n",
    "    bob.forward(80)\n",
    "    bob.turnright(90)\n",
    "    bob.forward(100)\n",
    "    bob.turnright(90)\n",
    "    bob.forward(100)\n",
    "    bob.turnleft(90)"
   ]
  },
  {
   "cell_type": "code",
   "execution_count": 10,
   "id": "efac116b",
   "metadata": {},
   "outputs": [
    {
     "data": {
      "application/vnd.jupyter.widget-view+json": {
       "model_id": "c68837fb19ac49c08c5ef4e7248ebc21",
       "version_major": 2,
       "version_minor": 0
      },
      "text/plain": [
       "Canvas(width=800)"
      ]
     },
     "metadata": {},
     "output_type": "display_data"
    }
   ],
   "source": [
    "# Mit einem Import kann von anderen Programmiererinnnen erstellter Code\n",
    "# in dem eigenen Programm genutzt werden\n",
    "\n",
    "import ipyturtle3 as turtle\n",
    "from ipyturtle3 import hold_canvas\n",
    "\n",
    "#Eine Zeichenfläche/Lewinwand erzeugen\n",
    "myCanvas=turtle.Canvas(width=800,height=500)\n",
    "#Leinwand anzeigen\n",
    "display(myCanvas)\n",
    "myTS=turtle.TurtleScreen(myCanvas)\n",
    "#Leinwandfarbe setzen\n",
    "myTS.bgcolor(\"lightblue\")\n",
    "#myTS.bgcolor(122012)\n",
    "myTS.clear()\n",
    "\n",
    "#Bob wird als Schildkröte erzeugt und auf dem TurtleScreen angezeigt\n",
    "bob=turtle.Turtle(myTS)\n",
    "\n",
    "#Das Aussehen wird auf Schildkröte gesetzt\n",
    "bob.shape(\"turtle\")\n",
    "\n",
    "#Die Geschwindigkeit der Turtle\n",
    "myTS.delay(5)\n",
    "\n",
    "for i in range(3):\n",
    "    bob.color('red')\n",
    "    bob.forward(100)\n",
    "    bob.turnleft(90)\n",
    "    bob.forward(80)\n",
    "    bob.turnleft(90)\n",
    "    bob.forward(60)\n",
    "    bob.turnleft(90)\n",
    "    bob.forward(40)\n",
    "    bob.turnleft(90)\n",
    "    bob.forward(20)\n",
    "    bob.turnleft(90)\n",
    "    bob.penup()\n",
    "    bob.forward(20)\n",
    "    bob.pendown()\n",
    "    bob.turnright(90)\n",
    "    bob.forward(20)\n",
    "    bob.turnright(90)\n",
    "    bob.forward(40)\n",
    "    bob.turnright(90)\n",
    "    bob.forward(60)\n",
    "    bob.turnright(90)\n",
    "    bob.forward(80)\n",
    "    bob.turnright(90)\n",
    "    bob.forward(100)\n",
    "    bob.turnright(90)\n",
    "    bob.forward(100)\n",
    "    bob.turnleft(90)"
   ]
  },
  {
   "cell_type": "code",
   "execution_count": null,
   "id": "72f399d2",
   "metadata": {},
   "outputs": [],
   "source": []
  }
 ],
 "metadata": {
  "hide_input": false,
  "kernelspec": {
   "display_name": "Python 3 (ipykernel)",
   "language": "python",
   "name": "python3"
  },
  "language_info": {
   "codemirror_mode": {
    "name": "ipython",
    "version": 3
   },
   "file_extension": ".py",
   "mimetype": "text/x-python",
   "name": "python",
   "nbconvert_exporter": "python",
   "pygments_lexer": "ipython3",
   "version": "3.9.7"
  }
 },
 "nbformat": 4,
 "nbformat_minor": 5
}
