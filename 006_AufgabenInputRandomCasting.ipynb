{
 "cells": [
  {
   "cell_type": "markdown",
   "id": "26ff6320",
   "metadata": {},
   "source": [
    "# Zufallszahlen\n",
    "Erstellen Sie ein Programm, dass Ihnen eine Liste mit 10 zufälligen ganzen 10-stelligen Zahlen ausgibt."
   ]
  },
  {
   "cell_type": "code",
   "execution_count": null,
   "id": "a206a699",
   "metadata": {},
   "outputs": [],
   "source": []
  },
  {
   "cell_type": "markdown",
   "id": "13544685",
   "metadata": {},
   "source": [
    "# Passwort generator\n",
    "Estellen Sie ein Programm das Ihnen ein Passwort nach folgendem Schema generiert:\n",
    "Lieblingstier + lieblingszahl zwischen 1 und 99 +eingegebenens Sonderzeichen+ zufällige 4-stelige Zahl\n",
    "\n",
    "Beispiel\n",
    "Wie heißt ihr Lieblingstier: Esel\n",
    "Wie lautet ihre Lieblingszahl zwischwen 1 und 99?: 17\n",
    "Geben Sie ein Sonderzeichen ein: *\n",
    "\n",
    "Ihr Passwort lautet: Esel17*3342\n"
   ]
  },
  {
   "cell_type": "code",
   "execution_count": null,
   "id": "5eeec3b8",
   "metadata": {},
   "outputs": [],
   "source": []
  }
 ],
 "metadata": {
  "hide_input": false,
  "kernelspec": {
   "display_name": "Python 3 (ipykernel)",
   "language": "python",
   "name": "python3"
  },
  "language_info": {
   "codemirror_mode": {
    "name": "ipython",
    "version": 3
   },
   "file_extension": ".py",
   "mimetype": "text/x-python",
   "name": "python",
   "nbconvert_exporter": "python",
   "pygments_lexer": "ipython3",
   "version": "3.9.7"
  }
 },
 "nbformat": 4,
 "nbformat_minor": 5
}
