{
 "cells": [
  {
   "cell_type": "markdown",
   "id": "306cd494",
   "metadata": {},
   "source": [
    "# Neue Techniken/Funktionen:\n",
    "\n",
    "Die Funktion len() ermittelt die Länge eines Strings als Integer Wert\n",
    "\n",
    "Mit der Angabe string[i] ermittelt Python den Buchstaben an der Stelle i \n",
    "\n",
    "(Achtung geht bei wie immer bei 0 los!)\n"
   ]
  },
  {
   "cell_type": "code",
   "execution_count": 2,
   "id": "f6e29a8c",
   "metadata": {},
   "outputs": [
    {
     "name": "stdout",
     "output_type": "stream",
     "text": [
      "Affe33!\n",
      "hat die Länge len\n",
      "7\n"
     ]
    }
   ],
   "source": [
    "text = \"Affe33!\"\n",
    "print(text)\n",
    "print(\"hat die Länge len\")\n",
    "print(len(text))"
   ]
  },
  {
   "cell_type": "code",
   "execution_count": 3,
   "id": "e8b0a3ae",
   "metadata": {},
   "outputs": [
    {
     "name": "stdout",
     "output_type": "stream",
     "text": [
      "r\n"
     ]
    }
   ],
   "source": [
    "text2=\"Bernd das Brot\"\n",
    "print(text2[2])"
   ]
  },
  {
   "cell_type": "markdown",
   "id": "562f6685",
   "metadata": {},
   "source": [
    "# Buchstabenzähler\n",
    "Schreiben Sie ein Programm, das in einem gegebenen Text einen bestimmten Buchstaben zählt."
   ]
  },
  {
   "cell_type": "code",
   "execution_count": null,
   "id": "8afcd6a0",
   "metadata": {},
   "outputs": [],
   "source": [
    "txt = \"Dies ist der Eingabe Text. Ich kann groß oder klein sein..\"\n",
    "char= input(\"Welchen Buchstaben soll ich zählen?:\")"
   ]
  }
 ],
 "metadata": {
  "hide_input": false,
  "kernelspec": {
   "display_name": "Python 3 (ipykernel)",
   "language": "python",
   "name": "python3"
  },
  "language_info": {
   "codemirror_mode": {
    "name": "ipython",
    "version": 3
   },
   "file_extension": ".py",
   "mimetype": "text/x-python",
   "name": "python",
   "nbconvert_exporter": "python",
   "pygments_lexer": "ipython3",
   "version": "3.9.7"
  }
 },
 "nbformat": 4,
 "nbformat_minor": 5
}
